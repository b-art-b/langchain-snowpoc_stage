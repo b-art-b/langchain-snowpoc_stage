{
 "cells": [
  {
   "cell_type": "markdown",
   "id": "c45ed84f-8724-4954-a0d4-7f480a1c2009",
   "metadata": {},
   "source": [
    "# LangChain with Snowflake Stage\n",
    "\n",
    "Example based on the following resources:\n",
    "* https://python.langchain.com/v0.2/docs/tutorials/qa_chat_history/\n",
    "* https://quickstarts.snowflake.com/guide/asking_questions_to_your_own_documents_with_snowflake_cortex/index.html?index=..%2F..index#0"
   ]
  },
  {
   "cell_type": "markdown",
   "id": "fcf9c67b-a847-42a7-98a6-3400b2229bb0",
   "metadata": {},
   "source": [
    "Let us define some variables:"
   ]
  },
  {
   "cell_type": "code",
   "execution_count": 1,
   "id": "99016006-3113-425b-8371-6c3905e54c88",
   "metadata": {},
   "outputs": [],
   "source": [
    "MODEL_EMBEDDINGS = \"e5-base-v2\"\n",
    "VECTOR_LENGTH = 786\n",
    "CONNECTION_NAME = \"arctic_user\"\n",
    "STAGE_NAME = \"CORTEX_DB.PUBLIC.DOCUMENTS\"\n",
    "MODEL_LLM = \"llama3-70b\"\n",
    "\n",
    "DEBUG_LANGCHAIN = False\n",
    "\n",
    "GITHUB_ROOT = \"https://github.com/Snowflake-Labs/sfquickstarts\"\n",
    "GITHUB_ASSETS = (\n",
    "    \"ask-questions-to-your-documents-using-rag-with-snowflake-cortex/assets/\"\n",
    ")\n",
    "GITHUB_URL = f\"{GITHUB_ROOT}/blob/9b1369fe6198ee62e0fc8d879209bc4c0b5b9cb6/site/sfguides/src/{GITHUB_ASSETS}\"\n",
    "PDF_LIST = [\n",
    "    f\"{GITHUB_URL}/Mondracer_Infant_Bike.pdf\",\n",
    "    f\"{GITHUB_URL}/Premium_Bicycle_User_Guide.pdf\",\n",
    "    f\"{GITHUB_URL}/Ski_Boots_TDBootz_Special.pdf\",\n",
    "    f\"{GITHUB_URL}/The_Ultimate_Downhill_Bike.pdf\",\n",
    "    f\"{GITHUB_URL}/The_Xtreme_Road_Bike_105_SL.pdf\",\n",
    "]"
   ]
  },
  {
   "cell_type": "markdown",
   "id": "cb137772-110f-42b1-a3f1-1d8c9412f64b",
   "metadata": {},
   "source": [
    "We will be connecting to Snowflake, so let us define the connection:"
   ]
  },
  {
   "cell_type": "code",
   "execution_count": 2,
   "id": "256e94c5-c667-4847-93f2-3b441e9f10ca",
   "metadata": {},
   "outputs": [],
   "source": [
    "import snowflake.connector\n",
    "\n",
    "snowflake_connection = snowflake.connector.connect(\n",
    "    connection_name=CONNECTION_NAME,\n",
    ")"
   ]
  },
  {
   "cell_type": "markdown",
   "id": "2f4c89f3-3099-4311-9251-8199c647d476",
   "metadata": {},
   "source": [
    "Next, download pdf files from github and upload them to the stage"
   ]
  },
  {
   "cell_type": "code",
   "execution_count": 3,
   "id": "044fd8c5-3149-4c78-9649-03a55ef7dde4",
   "metadata": {},
   "outputs": [
    {
     "name": "stdout",
     "output_type": "stream",
     "text": [
      "[('Mondracer_Infant_Bike.pdf', 'Mondracer_Infant_Bike.pdf', 30551, 30560, 'NONE', 'NONE', 'UPLOADED', '')]\n",
      "[('Premium_Bicycle_User_Guide.pdf', 'Premium_Bicycle_User_Guide.pdf', 52418, 52432, 'NONE', 'NONE', 'UPLOADED', '')]\n",
      "[('Ski_Boots_TDBootz_Special.pdf', 'Ski_Boots_TDBootz_Special.pdf', 57850, 57856, 'NONE', 'NONE', 'UPLOADED', '')]\n",
      "[('The_Ultimate_Downhill_Bike.pdf', 'The_Ultimate_Downhill_Bike.pdf', 60380, 60384, 'NONE', 'NONE', 'UPLOADED', '')]\n",
      "[('The_Xtreme_Road_Bike_105_SL.pdf', 'The_Xtreme_Road_Bike_105_SL.pdf', 40787, 40800, 'NONE', 'NONE', 'UPLOADED', '')]\n"
     ]
    }
   ],
   "source": [
    "import requests\n",
    "import os\n",
    "\n",
    "tempdir = os.path.join(os.getcwd(), \"temp_pdfs\")\n",
    "os.makedirs(tempdir, exist_ok=True)\n",
    "\n",
    "with snowflake_connection.cursor() as cs:\n",
    "    cs.execute(f\"DROP STAGE IF EXISTS {STAGE_NAME}\")\n",
    "    cs.execute(f\"CREATE STAGE IF NOT EXISTS {STAGE_NAME}\")\n",
    "\n",
    "    for url in PDF_LIST:\n",
    "        filename = os.path.basename(url)\n",
    "        local_file_name_with_path = f\"{tempdir}/{filename}\"\n",
    "\n",
    "        if not os.path.exists(local_file_name_with_path):\n",
    "            r = requests.get(f\"{url}?raw=true\", stream=True)\n",
    "\n",
    "            with open(local_file_name_with_path, \"wb\") as fd:\n",
    "                for chunk in r.iter_content(1024):\n",
    "                    fd.write(chunk)\n",
    "\n",
    "        cs.execute(\n",
    "            f\"PUT file://{local_file_name_with_path} @{STAGE_NAME}/descriptions/bikes/ auto_compress=false\"\n",
    "        )\n",
    "        print(cs.fetchall())"
   ]
  },
  {
   "cell_type": "markdown",
   "id": "cca1eb90-c734-46ba-bad0-547d619ec49d",
   "metadata": {},
   "source": [
    "## Get a single file from Snowflake Stage"
   ]
  },
  {
   "cell_type": "markdown",
   "id": "bce4cafc-c082-44e7-9d8b-5b135deca229",
   "metadata": {},
   "source": [
    "Import `SnowflakeStageFileLoader`"
   ]
  },
  {
   "cell_type": "code",
   "execution_count": 4,
   "id": "5a54acf2-4c4a-491c-b133-481704ffd97e",
   "metadata": {},
   "outputs": [],
   "source": [
    "from langchain_snowpoc.document_loaders.snowflake_stage_file import (\n",
    "    SnowflakeStageFileLoader,\n",
    ")"
   ]
  },
  {
   "cell_type": "markdown",
   "id": "5e5b65f9-d80f-4281-824a-3d97ff1d3089",
   "metadata": {},
   "source": [
    "Get a specific file"
   ]
  },
  {
   "cell_type": "code",
   "execution_count": 5,
   "id": "cbcf597a-d020-439b-81c3-d7357089333d",
   "metadata": {},
   "outputs": [],
   "source": [
    "ssfl = SnowflakeStageFileLoader(\n",
    "    staged_file_path=f\"@{STAGE_NAME}/descriptions/bikes/The_Ultimate_Downhill_Bike.pdf\",\n",
    "    connection=snowflake_connection,\n",
    ")\n",
    "doc = ssfl.load()"
   ]
  },
  {
   "cell_type": "markdown",
   "id": "bf291115-9e45-4baa-a5e9-09500a332956",
   "metadata": {},
   "source": [
    "> Note: Data from the pdf is extracted automatically, and a Document is returned."
   ]
  },
  {
   "cell_type": "markdown",
   "id": "d35d5754-2358-4981-b2e9-42a9b6d17cc1",
   "metadata": {},
   "source": [
    "Let's display content of the document (just first 500 chars):"
   ]
  },
  {
   "cell_type": "code",
   "execution_count": 6,
   "id": "6a16d209-0b26-4b0c-b0f0-3831f87402e8",
   "metadata": {},
   "outputs": [
    {
     "data": {
      "text/markdown": [
       "The Ultimate Downhill Bike “Rincon del Cielo”:\n",
       "\n",
       "Downhill biking, also known as downhill mountain biking (DH), is an exhilarating and challenging sport that requires the right equipment and skills. A downhill bike, speciﬁcally designed for tackling steep, rugged terrain at high speeds, plays a vital role in your performance and safety on the trails. In this guide, we'll cover everything you need to know about downhill bikes, from understanding their components to selecting the right bike and main... AND SO ON"
      ],
      "text/plain": [
       "<IPython.core.display.Markdown object>"
      ]
     },
     "metadata": {},
     "output_type": "display_data"
    }
   ],
   "source": [
    "from IPython.display import display, Markdown\n",
    "\n",
    "display(Markdown(doc[0].page_content[:500] + \"... AND SO ON\"))"
   ]
  },
  {
   "cell_type": "markdown",
   "id": "14e3fbdf-9b81-4e6d-b3d4-15dacd62fa16",
   "metadata": {},
   "source": [
    "Great! Let's do it on a bigger scale."
   ]
  },
  {
   "cell_type": "markdown",
   "id": "f643d6db-e593-46f4-a6f1-b45ca1acb1cb",
   "metadata": {},
   "source": [
    "## Get multiple files from Snowflake Stage"
   ]
  },
  {
   "cell_type": "markdown",
   "id": "92d669ee-15c0-4e50-b9d4-d1a4a687192d",
   "metadata": {},
   "source": [
    "For debug purpose let us set the `langchain.debug`. Its value was defined at the beginning of this file."
   ]
  },
  {
   "cell_type": "code",
   "execution_count": 7,
   "id": "b6f3cd23-f9a7-4bd5-b790-c9be52b7f3a3",
   "metadata": {
    "scrolled": true
   },
   "outputs": [],
   "source": [
    "import langchain\n",
    "\n",
    "langchain.debug = DEBUG_LANGCHAIN"
   ]
  },
  {
   "cell_type": "markdown",
   "id": "36364eb5-e2e7-4373-9a9f-1b961b9c1f61",
   "metadata": {},
   "source": [
    "Import `SnowflakeStageDirectoryLoader` to load documents from the stage."
   ]
  },
  {
   "cell_type": "code",
   "execution_count": 8,
   "id": "f0a0a847-5b0b-4e64-b9d0-4b303dcff262",
   "metadata": {},
   "outputs": [
    {
     "data": {
      "application/vnd.jupyter.widget-view+json": {
       "model_id": "b4f6439bdc7d43a2b3f9684d09566387",
       "version_major": 2,
       "version_minor": 0
      },
      "text/plain": [
       "  0%|          | 0/5 [00:00<?, ?it/s]"
      ]
     },
     "metadata": {},
     "output_type": "display_data"
    }
   ],
   "source": [
    "from langchain_snowpoc.document_loaders.snowflake_stage_directory import (\n",
    "    SnowflakeStageDirectoryLoader,\n",
    ")\n",
    "\n",
    "ssdl = SnowflakeStageDirectoryLoader(\n",
    "    stage_directory=f\"@{STAGE_NAME}/descriptions/bikes/\",\n",
    "    connection=snowflake_connection,\n",
    ")\n",
    "docs = ssdl.load()"
   ]
  },
  {
   "cell_type": "markdown",
   "id": "424304c9-7490-4b57-82b1-1808a65ffe3b",
   "metadata": {},
   "source": [
    "How many documents do we have?"
   ]
  },
  {
   "cell_type": "code",
   "execution_count": 9,
   "id": "aa2ab579-186b-4894-a34c-f71187507bc7",
   "metadata": {},
   "outputs": [
    {
     "data": {
      "text/plain": [
       "5"
      ]
     },
     "execution_count": 9,
     "metadata": {},
     "output_type": "execute_result"
    }
   ],
   "source": [
    "len(docs)"
   ]
  },
  {
   "cell_type": "markdown",
   "id": "3a1fb164-c660-403a-9e1a-ddd4d8d3d3b5",
   "metadata": {},
   "source": [
    "Check some metadata:"
   ]
  },
  {
   "cell_type": "code",
   "execution_count": 10,
   "id": "44c9bb79-c5eb-4cef-a4c7-0f5d1695e65e",
   "metadata": {},
   "outputs": [
    {
     "name": "stdout",
     "output_type": "stream",
     "text": [
      "{'last_modified': 'Fri, 5 Jul 2024 10:30:37 GMT',\n",
      " 'md5': 'c013a1a158ac33f280ab1f8dbe8b4813',\n",
      " 'name': 'documents/descriptions/bikes/Mondracer_Infant_Bike.pdf',\n",
      " 'size': 30560,\n",
      " 'source': '@documents/descriptions/bikes/Mondracer_Infant_Bike.pdf'}\n",
      "{'last_modified': 'Fri, 5 Jul 2024 10:30:38 GMT',\n",
      " 'md5': '83ea07b38602167733967d61f2be25d7',\n",
      " 'name': 'documents/descriptions/bikes/Premium_Bicycle_User_Guide.pdf',\n",
      " 'size': 52432,\n",
      " 'source': '@documents/descriptions/bikes/Premium_Bicycle_User_Guide.pdf'}\n",
      "{'last_modified': 'Fri, 5 Jul 2024 10:30:40 GMT',\n",
      " 'md5': '370b057f88f98d21681ccb684f4d0e83',\n",
      " 'name': 'documents/descriptions/bikes/Ski_Boots_TDBootz_Special.pdf',\n",
      " 'size': 57856,\n",
      " 'source': '@documents/descriptions/bikes/Ski_Boots_TDBootz_Special.pdf'}\n",
      "{'last_modified': 'Fri, 5 Jul 2024 10:30:41 GMT',\n",
      " 'md5': '6b16c052fe9b48d20947ab20834dd955',\n",
      " 'name': 'documents/descriptions/bikes/The_Ultimate_Downhill_Bike.pdf',\n",
      " 'size': 60384,\n",
      " 'source': '@documents/descriptions/bikes/The_Ultimate_Downhill_Bike.pdf'}\n",
      "{'last_modified': 'Fri, 5 Jul 2024 10:30:42 GMT',\n",
      " 'md5': 'f52ce96c93011132080e3be755755ecc',\n",
      " 'name': 'documents/descriptions/bikes/The_Xtreme_Road_Bike_105_SL.pdf',\n",
      " 'size': 40800,\n",
      " 'source': '@documents/descriptions/bikes/The_Xtreme_Road_Bike_105_SL.pdf'}\n"
     ]
    }
   ],
   "source": [
    "from pprint import pprint\n",
    "\n",
    "for doc in docs:\n",
    "    pprint(doc.metadata)"
   ]
  },
  {
   "cell_type": "markdown",
   "id": "864f5d71-81a4-480a-ab00-c250b75a0b99",
   "metadata": {},
   "source": [
    "Now, create llm, embeddings, vector and split the documents"
   ]
  },
  {
   "cell_type": "code",
   "execution_count": 11,
   "id": "52a0c770-b7d8-411b-9469-893e48b37765",
   "metadata": {},
   "outputs": [],
   "source": [
    "from langchain_snowpoc.llms import SQLCortex\n",
    "\n",
    "llm = SQLCortex(connection=snowflake_connection, model=MODEL_LLM)"
   ]
  },
  {
   "cell_type": "code",
   "execution_count": 12,
   "id": "cbef28bd-6755-404b-b613-c84dfa3b677e",
   "metadata": {},
   "outputs": [],
   "source": [
    "from langchain_snowpoc.embedding import SnowflakeEmbeddings\n",
    "\n",
    "embeddings = SnowflakeEmbeddings(\n",
    "    connection=snowflake_connection, model=MODEL_EMBEDDINGS\n",
    ")"
   ]
  },
  {
   "cell_type": "code",
   "execution_count": 13,
   "id": "9e6245fa-444f-43cc-88db-8eb96313564b",
   "metadata": {},
   "outputs": [],
   "source": [
    "from langchain_snowpoc.vectorstores import SnowflakeVectorStore\n",
    "from langchain_text_splitters import RecursiveCharacterTextSplitter\n",
    "\n",
    "\n",
    "text_splitter = RecursiveCharacterTextSplitter(\n",
    "    chunk_size=4000,\n",
    "    chunk_overlap=400,\n",
    "    length_function=len,\n",
    "    is_separator_regex=False,\n",
    ")\n",
    "\n",
    "documents = text_splitter.split_documents(docs)\n",
    "\n",
    "vector = SnowflakeVectorStore.from_documents(\n",
    "    documents=documents,\n",
    "    embedding=embeddings,\n",
    "    vector_length=VECTOR_LENGTH,\n",
    "    connection=snowflake_connection,\n",
    ")\n",
    "retriever = vector.as_retriever()"
   ]
  },
  {
   "cell_type": "markdown",
   "id": "8c2ff64e-5af7-4bf7-9548-990a42b0329c",
   "metadata": {},
   "source": [
    "Setup history support for LangChain"
   ]
  },
  {
   "cell_type": "code",
   "execution_count": 14,
   "id": "f29255d8-4634-427b-b184-bbea0778fd2c",
   "metadata": {},
   "outputs": [],
   "source": [
    "from langchain.chains import create_history_aware_retriever, create_retrieval_chain\n",
    "from langchain_core.prompts import ChatPromptTemplate, MessagesPlaceholder\n",
    "from langchain_community.chat_message_histories import ChatMessageHistory\n",
    "\n",
    "### Contextualize question ###\n",
    "contextualize_q_system_prompt = (\n",
    "    \"Given a chat history and the latest user question \"\n",
    "    \"which might reference context in the chat history, \"\n",
    "    \"formulate a standalone question which can be understood \"\n",
    "    \"without the chat history. Do NOT answer the question, \"\n",
    "    \"just reformulate it if needed and otherwise return it as is.\"\n",
    ")\n",
    "\n",
    "contextualize_q_prompt = ChatPromptTemplate.from_messages(\n",
    "    [\n",
    "        (\"system\", contextualize_q_system_prompt),\n",
    "        MessagesPlaceholder(\"chat_history\"),\n",
    "        (\"human\", \"{input}\"),\n",
    "    ]\n",
    ")\n",
    "history_aware_retriever = create_history_aware_retriever(\n",
    "    llm, retriever, contextualize_q_prompt\n",
    ")"
   ]
  },
  {
   "cell_type": "markdown",
   "id": "5936c13c-70af-409a-a24b-dfdc9c56d3ac",
   "metadata": {},
   "source": [
    "Prompt for answering questions"
   ]
  },
  {
   "cell_type": "code",
   "execution_count": 15,
   "id": "18cb2b57-a201-4d4a-914a-01cacac47a9b",
   "metadata": {},
   "outputs": [],
   "source": [
    "from langchain.chains.combine_documents import create_stuff_documents_chain\n",
    "\n",
    "### Answer question ###\n",
    "system_prompt = (\n",
    "    \"You are an assistant for question-answering tasks. \"\n",
    "    \"Use the following pieces of retrieved context to answer \"\n",
    "    \"the question. If you don't know the answer, say that you \"\n",
    "    \"don't know. Use three sentences maximum and keep the \"\n",
    "    \"answer concise.\"\n",
    "    \"\\n\\n\"\n",
    "    \"{context}\"\n",
    ")\n",
    "qa_prompt = ChatPromptTemplate.from_messages(\n",
    "    [\n",
    "        (\"system\", system_prompt),\n",
    "        MessagesPlaceholder(\"chat_history\"),\n",
    "        (\"human\", \"{input}\"),\n",
    "    ]\n",
    ")\n",
    "question_answer_chain = create_stuff_documents_chain(llm, qa_prompt)"
   ]
  },
  {
   "cell_type": "markdown",
   "id": "7f3b0523-7da9-4f92-8a3e-b5defc9d8879",
   "metadata": {},
   "source": [
    "And a RAG chain:"
   ]
  },
  {
   "cell_type": "code",
   "execution_count": 16,
   "id": "c74d59b6-bd44-4733-ac56-bb93cbc1bc5d",
   "metadata": {},
   "outputs": [],
   "source": [
    "rag_chain = create_retrieval_chain(history_aware_retriever, question_answer_chain)"
   ]
  },
  {
   "cell_type": "code",
   "execution_count": 17,
   "id": "3383c3be-c9c2-4f1d-bfda-5b5bab920405",
   "metadata": {},
   "outputs": [],
   "source": [
    "from langchain_core.chat_history import BaseChatMessageHistory\n",
    "from langchain_core.runnables.history import RunnableWithMessageHistory\n",
    "\n",
    "### Statefully manage chat history ###\n",
    "store = {}\n",
    "\n",
    "\n",
    "def get_session_history(session_id: str) -> BaseChatMessageHistory:\n",
    "    if session_id not in store:\n",
    "        store[session_id] = ChatMessageHistory()\n",
    "    return store[session_id]\n",
    "\n",
    "\n",
    "conversational_rag_chain = RunnableWithMessageHistory(\n",
    "    rag_chain,\n",
    "    get_session_history,\n",
    "    input_messages_key=\"input\",\n",
    "    history_messages_key=\"chat_history\",\n",
    "    output_messages_key=\"answer\",\n",
    ")"
   ]
  },
  {
   "cell_type": "markdown",
   "id": "a8daf99f-db8c-4c91-9e20-f75cac5526fd",
   "metadata": {},
   "source": [
    "A helper function, to make it easy to get answers"
   ]
  },
  {
   "cell_type": "code",
   "execution_count": 18,
   "id": "78f55b17-784e-4d99-91f8-6bc6b2c6b2b8",
   "metadata": {},
   "outputs": [],
   "source": [
    "def ask(question, session_id=\"123\"):\n",
    "    return conversational_rag_chain.invoke(\n",
    "        {\"input\": question},\n",
    "        config={\n",
    "            \"configurable\": {\"session_id\": session_id}\n",
    "        },  # constructs a key \"abc123\" in `store`.\n",
    "    )[\"answer\"]"
   ]
  },
  {
   "cell_type": "markdown",
   "id": "69ace00d-8c96-4d74-9a8c-14d19705b056",
   "metadata": {},
   "source": [
    "## Sample usage"
   ]
  },
  {
   "cell_type": "markdown",
   "id": "a4dc7bfd-7ba8-4239-ae19-7c9ac4cd5b56",
   "metadata": {
    "jp-MarkdownHeadingCollapsed": true
   },
   "source": [
    "Let's see some examples"
   ]
  },
  {
   "cell_type": "markdown",
   "id": "1b8e273b-b634-47a3-84af-69efa1247878",
   "metadata": {},
   "source": [
    "### Ski boots"
   ]
  },
  {
   "cell_type": "code",
   "execution_count": 19,
   "id": "b8c0ec50-225a-4f4a-a4fd-0e8a6ef7d752",
   "metadata": {},
   "outputs": [
    {
     "data": {
      "text/plain": [
       "'The name of the ski boots is TDBootz Special Ski Boots.'"
      ]
     },
     "execution_count": 19,
     "metadata": {},
     "output_type": "execute_result"
    }
   ],
   "source": [
    "ask(\"What is the name of the ski boots?\", session_id=\"ski boots\")"
   ]
  },
  {
   "cell_type": "code",
   "execution_count": 20,
   "id": "f48384fe-0aab-419e-845f-323580eac783",
   "metadata": {},
   "outputs": [
    {
     "data": {
      "text/plain": [
       "'The TDBootz Ski Boots have been extensively tested in the Cerler ski resort located in northern Spain.'"
      ]
     },
     "execution_count": 20,
     "metadata": {},
     "output_type": "execute_result"
    }
   ],
   "source": [
    "ask(\"Where have they been tested?\", session_id=\"ski boots\")"
   ]
  },
  {
   "cell_type": "code",
   "execution_count": 21,
   "id": "78ee1cdd-048d-438f-bfd8-4a6c094db0ad",
   "metadata": {},
   "outputs": [
    {
     "data": {
      "text/plain": [
       "'The TDBootz Ski Boots are the perfect choice for adventure skiers that are looking for the highest quality off-piste.'"
      ]
     },
     "execution_count": 21,
     "metadata": {},
     "output_type": "execute_result"
    }
   ],
   "source": [
    "ask(\"What are they good for?\", session_id=\"ski boots\")"
   ]
  },
  {
   "cell_type": "markdown",
   "id": "ebd01a6a-35cb-4f8e-92e1-0bf1ba3318fc",
   "metadata": {},
   "source": [
    "### Downhill bike"
   ]
  },
  {
   "cell_type": "code",
   "execution_count": 22,
   "id": "72121cb5-7d35-443d-b995-3b2de5799ed4",
   "metadata": {},
   "outputs": [
    {
     "data": {
      "text/plain": [
       "'The name of the downhill bike is \"Rincon del Cielo\".'"
      ]
     },
     "execution_count": 22,
     "metadata": {},
     "output_type": "execute_result"
    }
   ],
   "source": [
    "ask(\"What is the name of the downhill bike?\", session_id=\"downhill bike\")"
   ]
  },
  {
   "cell_type": "code",
   "execution_count": 23,
   "id": "92c361a1-f7e0-434d-893a-385b51208a3e",
   "metadata": {},
   "outputs": [
    {
     "data": {
      "text/plain": [
       "'The Rincon del Cielo downhill bike is made of the best carbon fiber of the market, 123-Carbon-Super.'"
      ]
     },
     "execution_count": 23,
     "metadata": {},
     "output_type": "execute_result"
    }
   ],
   "source": [
    "ask(\"What is it made of?\", session_id=\"downhill bike\")"
   ]
  },
  {
   "cell_type": "code",
   "execution_count": 24,
   "id": "6795dbad-3fb2-42ed-ac26-cb9178c786d8",
   "metadata": {},
   "outputs": [
    {
     "data": {
      "text/plain": [
       "'The bike was tested by specialized riders, Dash, Julian, and Carlos.'"
      ]
     },
     "execution_count": 24,
     "metadata": {},
     "output_type": "execute_result"
    }
   ],
   "source": [
    "ask(\"Who tested the bike?\", session_id=\"downhill bike\")"
   ]
  },
  {
   "cell_type": "code",
   "execution_count": 25,
   "id": "2e2cc621-d5d9-4d0e-ae84-4a0ecfd70e64",
   "metadata": {},
   "outputs": [
    {
     "data": {
      "text/plain": [
       "'They are famous not only for their skills with snow sports but also for their expertise in riding bikes.'"
      ]
     },
     "execution_count": 25,
     "metadata": {},
     "output_type": "execute_result"
    }
   ],
   "source": [
    "ask(\"What are they famous about?\", session_id=\"downhill bike\")"
   ]
  },
  {
   "cell_type": "markdown",
   "id": "0c95d581-00a7-437d-8230-a4689cf48a55",
   "metadata": {},
   "source": [
    "### Infant bike"
   ]
  },
  {
   "cell_type": "code",
   "execution_count": 26,
   "id": "cad6cd6f-886a-41ce-8caa-763109ea3f98",
   "metadata": {},
   "outputs": [
    {
     "data": {
      "text/plain": [
       "'According to the Mondracer Infant Bike user guide, the maximum speed for the infant bike is 12 miles per hour.'"
      ]
     },
     "execution_count": 26,
     "metadata": {},
     "output_type": "execute_result"
    }
   ],
   "source": [
    "ask(\"What is the max speed for the infant bike?\", session_id=\"infant bike\")"
   ]
  },
  {
   "cell_type": "code",
   "execution_count": 27,
   "id": "a0c9f019-a596-443a-8e32-bb0d24b40515",
   "metadata": {},
   "outputs": [
    {
     "data": {
      "text/plain": [
       "'Yes, the Mondracer Infant bike brings a special allen wrench that needs to be used for the assembly. Not using this tool will break the warranty.'"
      ]
     },
     "execution_count": 27,
     "metadata": {},
     "output_type": "execute_result"
    }
   ],
   "source": [
    "ask(\"Do I need any special tool for the assembly?\", session_id=\"infant bike\")"
   ]
  },
  {
   "cell_type": "code",
   "execution_count": 28,
   "id": "1ab03ea5-47a5-4425-a7a8-f5148677f2d2",
   "metadata": {},
   "outputs": [
    {
     "data": {
      "text/plain": [
       "'You should clean the bike regularly with mild soap and water to remove dirt, grime, and debris.'"
      ]
     },
     "execution_count": 28,
     "metadata": {},
     "output_type": "execute_result"
    }
   ],
   "source": [
    "ask(\"How should I clean the bike?\", session_id=\"infant bike\")"
   ]
  }
 ],
 "metadata": {
  "kernelspec": {
   "display_name": "Python 3 (ipykernel)",
   "language": "python",
   "name": "python3"
  },
  "language_info": {
   "codemirror_mode": {
    "name": "ipython",
    "version": 3
   },
   "file_extension": ".py",
   "mimetype": "text/x-python",
   "name": "python",
   "nbconvert_exporter": "python",
   "pygments_lexer": "ipython3",
   "version": "3.10.14"
  }
 },
 "nbformat": 4,
 "nbformat_minor": 5
}
